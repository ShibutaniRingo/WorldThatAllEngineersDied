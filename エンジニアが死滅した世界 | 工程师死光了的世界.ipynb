{
 "cells": [
  {
   "cell_type": "markdown",
   "metadata": {},
   "source": [
    "<h3>Rank D"
   ]
  },
  {
   "cell_type": "markdown",
   "metadata": {},
   "source": [
    "<h4>1.荒れ果てたオフィス | 残破的办公室"
   ]
  },
  {
   "cell_type": "markdown",
   "metadata": {},
   "source": [
    "Item： たれ目 | 下垂眼"
   ]
  },
  {
   "cell_type": "code",
   "execution_count": 36,
   "metadata": {},
   "outputs": [
    {
     "name": "stdout",
     "output_type": "stream",
     "text": [
      "5\n",
      "paiza 1 \n",
      "coding 3 \n",
      "answer 3\n",
      "input 2\n",
      "aaaaa 1\n",
      "coding\n",
      "answer\n"
     ]
    }
   ],
   "source": [
    "num = input()\n",
    "num_of_line = int(num.strip())\n",
    "title = dict()\n",
    "for i in range(num_of_line):\n",
    "    imput_line = input().strip()\n",
    "    line = imput_line.split(' ')\n",
    "    title[line[0]] = int(line[1])\n",
    "importance = title.values()\n",
    "max_importance = sorted(importance)[-1]\n",
    "for item in title:\n",
    "    if title[item] == max_importance:\n",
    "        print(item)\n"
   ]
  },
  {
   "cell_type": "markdown",
   "metadata": {},
   "source": [
    "<h4>２.荒れ果てた警察署 | 荒废的警察局"
   ]
  },
  {
   "cell_type": "markdown",
   "metadata": {},
   "source": [
    "Item: ショート | 短发"
   ]
  },
  {
   "cell_type": "code",
   "execution_count": 6,
   "metadata": {},
   "outputs": [
    {
     "name": "stdout",
     "output_type": "stream",
     "text": [
      "4 8\n",
      "2\n"
     ]
    }
   ],
   "source": [
    "input_line = input()\n",
    "n = input_line.split(' ')\n",
    "n_1 = int(n[0])\n",
    "n_2 = int(n[1])\n",
    "result = n_1 + n_2\n",
    "if result >= 10:\n",
    "    result = result - 10\n",
    "print(result)"
   ]
  },
  {
   "cell_type": "markdown",
   "metadata": {},
   "source": [
    "<h4>3.アンドロイドの生産工場 | 安卓的生产工厂"
   ]
  },
  {
   "cell_type": "markdown",
   "metadata": {},
   "source": [
    "Item: ロング | 长发"
   ]
  },
  {
   "cell_type": "code",
   "execution_count": 7,
   "metadata": {},
   "outputs": [
    {
     "name": "stdout",
     "output_type": "stream",
     "text": [
      "PXaXiXzXaX\n",
      "Paiza\n"
     ]
    }
   ],
   "source": [
    "input_lines = str(input())\n",
    "output = input_lines[0::2]\n",
    "print(output)"
   ]
  },
  {
   "cell_type": "markdown",
   "metadata": {},
   "source": [
    "<h4>4.お金が引き出せない銀行 | 取不出钱的银行"
   ]
  },
  {
   "cell_type": "markdown",
   "metadata": {},
   "source": [
    "Item: 探索服 "
   ]
  },
  {
   "cell_type": "code",
   "execution_count": 8,
   "metadata": {},
   "outputs": [
    {
     "name": "stdout",
     "output_type": "stream",
     "text": [
      "10000\n",
      "1020\n",
      "8980\n"
     ]
    }
   ],
   "source": [
    "balance = int(input())\n",
    "withdrawl = int(input())\n",
    "new_balance = balance - withdrawl\n",
    "if new_balance < 0:\n",
    "    print('error')\n",
    "else:\n",
    "    print(new_balance)"
   ]
  },
  {
   "cell_type": "markdown",
   "metadata": {},
   "source": [
    "<h4>5.錆びついた電波タワー | 生锈的信号塔"
   ]
  },
  {
   "cell_type": "markdown",
   "metadata": {},
   "source": [
    "Item: ニーソックス | 过膝袜"
   ]
  },
  {
   "cell_type": "code",
   "execution_count": 13,
   "metadata": {},
   "outputs": [
    {
     "name": "stdout",
     "output_type": "stream",
     "text": [
      "6\n",
      "9 9 8 3 1 9\n",
      "4\n"
     ]
    }
   ],
   "source": [
    "trial = input()\n",
    "count = 0\n",
    "input_line = input()\n",
    "input_line = input_line.split(' ')\n",
    "for item in input_line:\n",
    "    strength = int(item)\n",
    "    if strength > 5:\n",
    "        count = count + 1\n",
    "print(count)"
   ]
  },
  {
   "cell_type": "markdown",
   "metadata": {},
   "source": [
    "<h3>Rank C"
   ]
  },
  {
   "cell_type": "markdown",
   "metadata": {},
   "source": [
    "<h4>1.機械の総合病院 | 自动化的全科医院"
   ]
  },
  {
   "cell_type": "markdown",
   "metadata": {},
   "source": [
    "Item: ニットセーター | 针织毛衣"
   ]
  },
  {
   "cell_type": "code",
   "execution_count": 27,
   "metadata": {},
   "outputs": [
    {
     "name": "stdout",
     "output_type": "stream",
     "text": [
      "asfdgjk\n",
      "Invalid\n"
     ]
    }
   ],
   "source": [
    "password = str(input()).lower()\n",
    "valid1 = False\n",
    "valid2 = False\n",
    "valid3 = True\n",
    "alphabet = []\n",
    "for a in range(26):\n",
    "    alphabet.append(chr(97+a))\n",
    "if len(password) >= 6:\n",
    "    valid1 = True\n",
    "for i in range(10):\n",
    "    if str(i) in password:\n",
    "        for j in alphabet:\n",
    "            if j in password:\n",
    "                valid2 = True\n",
    "for l in range(len(password)-2):\n",
    "    if password[l] == password[l+1] and password[l] == password[l+2]:\n",
    "        valid3 = False\n",
    "valid = valid1 and valid2 and valid3 \n",
    "if valid  == True:\n",
    "    print('Valid')\n",
    "else:\n",
    "    print('Invalid')"
   ]
  },
  {
   "cell_type": "markdown",
   "metadata": {},
   "source": [
    "<h4>2.荒れ果てたショップ | 荒废的商店"
   ]
  },
  {
   "cell_type": "markdown",
   "metadata": {},
   "source": [
    "Item: 街（背景）"
   ]
  },
  {
   "cell_type": "code",
   "execution_count": 36,
   "metadata": {},
   "outputs": [
    {
     "name": "stdout",
     "output_type": "stream",
     "text": [
      "3 9 11\n",
      "009\n",
      "010\n",
      "011\n"
     ]
    }
   ],
   "source": [
    "input_ = str(input()).split(' ')\n",
    "digit = int(input_[0])\n",
    "start = int(input_[1])\n",
    "end = int(input_[2])\n",
    "for i in range(end-start+1):\n",
    "    out = ''\n",
    "    out += str(start+i)\n",
    "    if len(out) < digit:\n",
    "        out = '0' * (digit - len(out)) + out\n",
    "    print(out)"
   ]
  },
  {
   "cell_type": "markdown",
   "metadata": {},
   "source": [
    "<h4>3.学べない学校 | 没人在学的学校"
   ]
  },
  {
   "cell_type": "markdown",
   "metadata": {},
   "source": [
    "Item: おさげ | 下端系带的两条辫"
   ]
  },
  {
   "cell_type": "code",
   "execution_count": 42,
   "metadata": {},
   "outputs": [],
   "source": [
    "import pandas as pd\n",
    "Jyankenn = pd.DataFrame([[0,1,-1],[-1,0,1],[1,-1,0]])\n",
    "Jyankenn.columns = ['g','c','p']\n",
    "Jyankenn.index = ['g','c','p']"
   ]
  },
  {
   "cell_type": "code",
   "execution_count": 45,
   "metadata": {},
   "outputs": [
    {
     "name": "stdout",
     "output_type": "stream",
     "text": [
      "3\n",
      "g g\n",
      "c p\n",
      "p g\n",
      "2\n",
      "0\n"
     ]
    }
   ],
   "source": [
    "games = int(input())\n",
    "count_A = 0\n",
    "count_B = 0\n",
    "for game in range(games):\n",
    "    play = str(input()).split(' ')\n",
    "    row = play[0]\n",
    "    column = play[1]\n",
    "    result = Jyankenn[column][row]\n",
    "    if result == 1:\n",
    "        count_A += 1\n",
    "    elif result == -1:\n",
    "        count_B += 1\n",
    "print(count_A)\n",
    "print(count_B)"
   ]
  },
  {
   "cell_type": "markdown",
   "metadata": {},
   "source": [
    "<h3>Rank B"
   ]
  },
  {
   "cell_type": "markdown",
   "metadata": {},
   "source": [
    "<h4>1.隔離させた街のゲート | 被隔离的街道大门"
   ]
  },
  {
   "cell_type": "markdown",
   "metadata": {},
   "source": [
    "Item: ヘッドセット | 头戴式的耳机"
   ]
  },
  {
   "cell_type": "code",
   "execution_count": 74,
   "metadata": {},
   "outputs": [],
   "source": [
    "def move(movement,x,y):\n",
    "    if movement == \"U\":\n",
    "        y += 1\n",
    "    elif movement == \"D\":\n",
    "        y -= 1\n",
    "    elif movement == \"R\":\n",
    "        x += 1\n",
    "    elif movement == \"L\":\n",
    "        x -= 1\n",
    "    result = [x,y]\n",
    "    return result"
   ]
  },
  {
   "cell_type": "code",
   "execution_count": 77,
   "metadata": {},
   "outputs": [
    {
     "name": "stdout",
     "output_type": "stream",
     "text": [
      "4 4 7\n"
     ]
    }
   ],
   "source": [
    "input_ = str(input()).split(\" \")\n",
    "moves = int(input_[2])\n",
    "map_ = [(c,r) for c in range(int(input_[0])) for r in range(int(input_[1]))]"
   ]
  },
  {
   "cell_type": "code",
   "execution_count": 78,
   "metadata": {},
   "outputs": [
    {
     "name": "stdout",
     "output_type": "stream",
     "text": [
      "U\n",
      "U\n",
      "R\n",
      "R\n",
      "R\n",
      "D\n",
      "R\n",
      "invalid\n"
     ]
    }
   ],
   "source": [
    "x = 0\n",
    "y = 0\n",
    "for m in range(moves):\n",
    "    move_ = input()\n",
    "    [x,y] = move(move_,x,y)\n",
    "if (x,y) in map_:\n",
    "    print('valid')\n",
    "else:\n",
    "    print('invalid')"
   ]
  },
  {
   "cell_type": "markdown",
   "metadata": {},
   "source": [
    "<h4>2.高層タワー | 高层塔"
   ]
  },
  {
   "cell_type": "markdown",
   "metadata": {},
   "source": [
    "Item: つり目 | 吊梢眼"
   ]
  },
  {
   "cell_type": "code",
   "execution_count": null,
   "metadata": {},
   "outputs": [],
   "source": []
  }
 ],
 "metadata": {
  "kernelspec": {
   "display_name": "Python 3",
   "language": "python",
   "name": "python3"
  },
  "language_info": {
   "codemirror_mode": {
    "name": "ipython",
    "version": 3
   },
   "file_extension": ".py",
   "mimetype": "text/x-python",
   "name": "python",
   "nbconvert_exporter": "python",
   "pygments_lexer": "ipython3",
   "version": "3.6.5"
  }
 },
 "nbformat": 4,
 "nbformat_minor": 2
}
